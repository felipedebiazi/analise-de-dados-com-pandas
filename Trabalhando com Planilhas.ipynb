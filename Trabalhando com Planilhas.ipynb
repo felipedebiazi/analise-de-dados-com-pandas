{
 "cells": [
  {
   "cell_type": "markdown",
   "id": "02030e0e",
   "metadata": {},
   "source": [
    "# Introdução ao Pandas"
   ]
  },
  {
   "cell_type": "markdown",
   "id": "4a91813c",
   "metadata": {},
   "source": [
    "### Trabalhando com Planilhas Excel (CSV)"
   ]
  },
  {
   "cell_type": "code",
   "execution_count": 1,
   "id": "6b31648d",
   "metadata": {},
   "outputs": [],
   "source": [
    "import pandas as pd"
   ]
  },
  {
   "cell_type": "code",
   "execution_count": 2,
   "id": "9c1411b4",
   "metadata": {},
   "outputs": [],
   "source": [
    "df = pd.read_csv('data_mercado.csv')"
   ]
  },
  {
   "cell_type": "code",
   "execution_count": 3,
   "id": "170b3ad9",
   "metadata": {
    "scrolled": true
   },
   "outputs": [
    {
     "data": {
      "text/html": [
       "<div>\n",
       "<style scoped>\n",
       "    .dataframe tbody tr th:only-of-type {\n",
       "        vertical-align: middle;\n",
       "    }\n",
       "\n",
       "    .dataframe tbody tr th {\n",
       "        vertical-align: top;\n",
       "    }\n",
       "\n",
       "    .dataframe thead th {\n",
       "        text-align: right;\n",
       "    }\n",
       "</style>\n",
       "<table border=\"1\" class=\"dataframe\">\n",
       "  <thead>\n",
       "    <tr style=\"text-align: right;\">\n",
       "      <th></th>\n",
       "      <th>Descrição</th>\n",
       "      <th>Beneficiario</th>\n",
       "      <th>Data</th>\n",
       "      <th>Valor R$</th>\n",
       "    </tr>\n",
       "  </thead>\n",
       "  <tbody>\n",
       "    <tr>\n",
       "      <th>0</th>\n",
       "      <td>Pagamento de Boleto</td>\n",
       "      <td>NaN</td>\n",
       "      <td>2022-01-03 00:00:00</td>\n",
       "      <td>22,00</td>\n",
       "    </tr>\n",
       "    <tr>\n",
       "      <th>1</th>\n",
       "      <td>Pagamento conta luz</td>\n",
       "      <td>NaN</td>\n",
       "      <td>2022-01-03 00:00:00</td>\n",
       "      <td>27,17</td>\n",
       "    </tr>\n",
       "    <tr>\n",
       "      <th>2</th>\n",
       "      <td>Pagamento conta luz</td>\n",
       "      <td>NaN</td>\n",
       "      <td>2022-01-03 00:00:00</td>\n",
       "      <td>34,21</td>\n",
       "    </tr>\n",
       "    <tr>\n",
       "      <th>3</th>\n",
       "      <td>Pgto conta água</td>\n",
       "      <td>NaN</td>\n",
       "      <td>2022-01-03 00:00:00</td>\n",
       "      <td>34,83</td>\n",
       "    </tr>\n",
       "    <tr>\n",
       "      <th>4</th>\n",
       "      <td>Pagamento de Boleto</td>\n",
       "      <td>NaN</td>\n",
       "      <td>2022-01-03 00:00:00</td>\n",
       "      <td>35,00</td>\n",
       "    </tr>\n",
       "  </tbody>\n",
       "</table>\n",
       "</div>"
      ],
      "text/plain": [
       "             Descrição Beneficiario                 Data Valor R$ \n",
       "0  Pagamento de Boleto          NaN  2022-01-03 00:00:00     22,00\n",
       "1  Pagamento conta luz          NaN  2022-01-03 00:00:00     27,17\n",
       "2  Pagamento conta luz          NaN  2022-01-03 00:00:00     34,21\n",
       "3      Pgto conta água          NaN  2022-01-03 00:00:00     34,83\n",
       "4  Pagamento de Boleto          NaN  2022-01-03 00:00:00     35,00"
      ]
     },
     "execution_count": 3,
     "metadata": {},
     "output_type": "execute_result"
    }
   ],
   "source": [
    " df.head(5)"
   ]
  },
  {
   "cell_type": "code",
   "execution_count": 4,
   "id": "1c568b6c",
   "metadata": {},
   "outputs": [],
   "source": [
    "# juntando todos os arquivos \n",
    "# df =pd.concat([df1, df2, df3...])"
   ]
  },
  {
   "cell_type": "code",
   "execution_count": 5,
   "id": "320282b4",
   "metadata": {},
   "outputs": [
    {
     "data": {
      "text/html": [
       "<div>\n",
       "<style scoped>\n",
       "    .dataframe tbody tr th:only-of-type {\n",
       "        vertical-align: middle;\n",
       "    }\n",
       "\n",
       "    .dataframe tbody tr th {\n",
       "        vertical-align: top;\n",
       "    }\n",
       "\n",
       "    .dataframe thead th {\n",
       "        text-align: right;\n",
       "    }\n",
       "</style>\n",
       "<table border=\"1\" class=\"dataframe\">\n",
       "  <thead>\n",
       "    <tr style=\"text-align: right;\">\n",
       "      <th></th>\n",
       "      <th>Descrição</th>\n",
       "      <th>Beneficiario</th>\n",
       "      <th>Data</th>\n",
       "      <th>Valor</th>\n",
       "    </tr>\n",
       "  </thead>\n",
       "  <tbody>\n",
       "    <tr>\n",
       "      <th>0</th>\n",
       "      <td>Pagamento de Boleto</td>\n",
       "      <td>NaN</td>\n",
       "      <td>2022-01-03 00:00:00</td>\n",
       "      <td>22,00</td>\n",
       "    </tr>\n",
       "    <tr>\n",
       "      <th>1</th>\n",
       "      <td>Pagamento conta luz</td>\n",
       "      <td>NaN</td>\n",
       "      <td>2022-01-03 00:00:00</td>\n",
       "      <td>27,17</td>\n",
       "    </tr>\n",
       "    <tr>\n",
       "      <th>2</th>\n",
       "      <td>Pagamento conta luz</td>\n",
       "      <td>NaN</td>\n",
       "      <td>2022-01-03 00:00:00</td>\n",
       "      <td>34,21</td>\n",
       "    </tr>\n",
       "    <tr>\n",
       "      <th>3</th>\n",
       "      <td>Pgto conta água</td>\n",
       "      <td>NaN</td>\n",
       "      <td>2022-01-03 00:00:00</td>\n",
       "      <td>34,83</td>\n",
       "    </tr>\n",
       "    <tr>\n",
       "      <th>4</th>\n",
       "      <td>Pagamento de Boleto</td>\n",
       "      <td>NaN</td>\n",
       "      <td>2022-01-03 00:00:00</td>\n",
       "      <td>35,00</td>\n",
       "    </tr>\n",
       "    <tr>\n",
       "      <th>5</th>\n",
       "      <td>Pgto conta água</td>\n",
       "      <td>NaN</td>\n",
       "      <td>2022-01-03 00:00:00</td>\n",
       "      <td>36,83</td>\n",
       "    </tr>\n",
       "    <tr>\n",
       "      <th>6</th>\n",
       "      <td>Pgto conta água</td>\n",
       "      <td>NaN</td>\n",
       "      <td>2022-01-03 00:00:00</td>\n",
       "      <td>38,70</td>\n",
       "    </tr>\n",
       "    <tr>\n",
       "      <th>7</th>\n",
       "      <td>Pgto conta água</td>\n",
       "      <td>NaN</td>\n",
       "      <td>2022-01-03 00:00:00</td>\n",
       "      <td>39,87</td>\n",
       "    </tr>\n",
       "    <tr>\n",
       "      <th>8</th>\n",
       "      <td>Pgto conta água</td>\n",
       "      <td>NaN</td>\n",
       "      <td>2022-01-03 00:00:00</td>\n",
       "      <td>41,17</td>\n",
       "    </tr>\n",
       "    <tr>\n",
       "      <th>9</th>\n",
       "      <td>Pagamento conta luz</td>\n",
       "      <td>NaN</td>\n",
       "      <td>2022-01-03 00:00:00</td>\n",
       "      <td>42,30</td>\n",
       "    </tr>\n",
       "  </tbody>\n",
       "</table>\n",
       "</div>"
      ],
      "text/plain": [
       "             Descrição Beneficiario                 Data  Valor\n",
       "0  Pagamento de Boleto          NaN  2022-01-03 00:00:00  22,00\n",
       "1  Pagamento conta luz          NaN  2022-01-03 00:00:00  27,17\n",
       "2  Pagamento conta luz          NaN  2022-01-03 00:00:00  34,21\n",
       "3      Pgto conta água          NaN  2022-01-03 00:00:00  34,83\n",
       "4  Pagamento de Boleto          NaN  2022-01-03 00:00:00  35,00\n",
       "5      Pgto conta água          NaN  2022-01-03 00:00:00  36,83\n",
       "6      Pgto conta água          NaN  2022-01-03 00:00:00  38,70\n",
       "7      Pgto conta água          NaN  2022-01-03 00:00:00  39,87\n",
       "8      Pgto conta água          NaN  2022-01-03 00:00:00  41,17\n",
       "9  Pagamento conta luz          NaN  2022-01-03 00:00:00  42,30"
      ]
     },
     "execution_count": 5,
     "metadata": {},
     "output_type": "execute_result"
    }
   ],
   "source": [
    "# Renomeando colunas \n",
    "df = df.rename(columns={'Valor R$ ':'Valor'})\n",
    "df.head(10)"
   ]
  },
  {
   "cell_type": "code",
   "execution_count": 6,
   "id": "ff3cc125",
   "metadata": {},
   "outputs": [],
   "source": [
    "# Alterando o tipo de dado de uma coluna\n",
    "df['Data'] = pd.to_datetime(df['Data'])"
   ]
  },
  {
   "cell_type": "code",
   "execution_count": 9,
   "id": "831be975",
   "metadata": {},
   "outputs": [],
   "source": [
    "# Alterando o tipo de dado de uma coluna\n",
    "df['Valor'] = df['Valor'].str.replace(',', '.').astype(float)"
   ]
  },
  {
   "cell_type": "code",
   "execution_count": 10,
   "id": "ffd596cf",
   "metadata": {
    "scrolled": true
   },
   "outputs": [
    {
     "data": {
      "text/html": [
       "<div>\n",
       "<style scoped>\n",
       "    .dataframe tbody tr th:only-of-type {\n",
       "        vertical-align: middle;\n",
       "    }\n",
       "\n",
       "    .dataframe tbody tr th {\n",
       "        vertical-align: top;\n",
       "    }\n",
       "\n",
       "    .dataframe thead th {\n",
       "        text-align: right;\n",
       "    }\n",
       "</style>\n",
       "<table border=\"1\" class=\"dataframe\">\n",
       "  <thead>\n",
       "    <tr style=\"text-align: right;\">\n",
       "      <th></th>\n",
       "      <th>Descrição</th>\n",
       "      <th>Beneficiario</th>\n",
       "      <th>Data</th>\n",
       "      <th>Valor</th>\n",
       "    </tr>\n",
       "  </thead>\n",
       "  <tbody>\n",
       "    <tr>\n",
       "      <th>5749</th>\n",
       "      <td>Pagamento de Boleto</td>\n",
       "      <td>NaN</td>\n",
       "      <td>2022-02-21</td>\n",
       "      <td>563.03</td>\n",
       "    </tr>\n",
       "    <tr>\n",
       "      <th>10050</th>\n",
       "      <td>Pagto conta telefone</td>\n",
       "      <td>TIM S/A</td>\n",
       "      <td>2022-04-07</td>\n",
       "      <td>54.99</td>\n",
       "    </tr>\n",
       "    <tr>\n",
       "      <th>5306</th>\n",
       "      <td>Pgto conta água</td>\n",
       "      <td>NaN</td>\n",
       "      <td>2022-02-16</td>\n",
       "      <td>34.83</td>\n",
       "    </tr>\n",
       "    <tr>\n",
       "      <th>16194</th>\n",
       "      <td>Pagamento conta luz</td>\n",
       "      <td>CELESC DISTRIBUICAO S.A.</td>\n",
       "      <td>2022-06-09</td>\n",
       "      <td>85.75</td>\n",
       "    </tr>\n",
       "    <tr>\n",
       "      <th>19162</th>\n",
       "      <td>Pagamento conta luz</td>\n",
       "      <td>COORSEL</td>\n",
       "      <td>2022-07-11</td>\n",
       "      <td>123.03</td>\n",
       "    </tr>\n",
       "    <tr>\n",
       "      <th>6983</th>\n",
       "      <td>Pagamento conta luz</td>\n",
       "      <td>NaN</td>\n",
       "      <td>2022-03-08</td>\n",
       "      <td>71.82</td>\n",
       "    </tr>\n",
       "    <tr>\n",
       "      <th>7941</th>\n",
       "      <td>Pagamento conta luz</td>\n",
       "      <td>NaN</td>\n",
       "      <td>2022-03-14</td>\n",
       "      <td>99.87</td>\n",
       "    </tr>\n",
       "    <tr>\n",
       "      <th>7016</th>\n",
       "      <td>Pagamento de Boleto</td>\n",
       "      <td>NaN</td>\n",
       "      <td>2022-03-08</td>\n",
       "      <td>99.90</td>\n",
       "    </tr>\n",
       "    <tr>\n",
       "      <th>5153</th>\n",
       "      <td>Pagamento de Boleto</td>\n",
       "      <td>NaN</td>\n",
       "      <td>2022-02-15</td>\n",
       "      <td>50.00</td>\n",
       "    </tr>\n",
       "    <tr>\n",
       "      <th>727</th>\n",
       "      <td>Pagamento conta luz</td>\n",
       "      <td>NaN</td>\n",
       "      <td>2022-01-07</td>\n",
       "      <td>100.39</td>\n",
       "    </tr>\n",
       "  </tbody>\n",
       "</table>\n",
       "</div>"
      ],
      "text/plain": [
       "                  Descrição              Beneficiario       Data   Valor\n",
       "5749    Pagamento de Boleto                       NaN 2022-02-21  563.03\n",
       "10050  Pagto conta telefone                   TIM S/A 2022-04-07   54.99\n",
       "5306        Pgto conta água                       NaN 2022-02-16   34.83\n",
       "16194   Pagamento conta luz  CELESC DISTRIBUICAO S.A. 2022-06-09   85.75\n",
       "19162   Pagamento conta luz                   COORSEL 2022-07-11  123.03\n",
       "6983    Pagamento conta luz                       NaN 2022-03-08   71.82\n",
       "7941    Pagamento conta luz                       NaN 2022-03-14   99.87\n",
       "7016    Pagamento de Boleto                       NaN 2022-03-08   99.90\n",
       "5153    Pagamento de Boleto                       NaN 2022-02-15   50.00\n",
       "727     Pagamento conta luz                       NaN 2022-01-07  100.39"
      ]
     },
     "execution_count": 10,
     "metadata": {},
     "output_type": "execute_result"
    }
   ],
   "source": [
    "# pegando linhas aleatorias \n",
    "df.sample(10)"
   ]
  },
  {
   "cell_type": "code",
   "execution_count": 11,
   "id": "c663ba1a",
   "metadata": {},
   "outputs": [
    {
     "data": {
      "text/plain": [
       "Descrição               object\n",
       "Beneficiario            object\n",
       "Data            datetime64[ns]\n",
       "Valor                  float64\n",
       "dtype: object"
      ]
     },
     "execution_count": 11,
     "metadata": {},
     "output_type": "execute_result"
    }
   ],
   "source": [
    "df.dtypes"
   ]
  },
  {
   "cell_type": "code",
   "execution_count": 12,
   "id": "0a3d0f48",
   "metadata": {},
   "outputs": [
    {
     "data": {
      "text/plain": [
       "Descrição          0\n",
       "Beneficiario    9310\n",
       "Data               0\n",
       "Valor              0\n",
       "dtype: int64"
      ]
     },
     "execution_count": 12,
     "metadata": {},
     "output_type": "execute_result"
    }
   ],
   "source": [
    "df.isnull().sum()"
   ]
  },
  {
   "cell_type": "code",
   "execution_count": 13,
   "id": "632252a2",
   "metadata": {},
   "outputs": [
    {
     "data": {
      "text/plain": [
       "15100.28"
      ]
     },
     "execution_count": 13,
     "metadata": {},
     "output_type": "execute_result"
    }
   ],
   "source": [
    "df['Valor'].max()"
   ]
  },
  {
   "cell_type": "code",
   "execution_count": 14,
   "id": "c17bc0f9",
   "metadata": {},
   "outputs": [
    {
     "data": {
      "text/plain": [
       "0.01"
      ]
     },
     "execution_count": 14,
     "metadata": {},
     "output_type": "execute_result"
    }
   ],
   "source": [
    "df['Valor'].min()"
   ]
  },
  {
   "cell_type": "code",
   "execution_count": 15,
   "id": "855c49c8",
   "metadata": {},
   "outputs": [
    {
     "data": {
      "text/html": [
       "<div>\n",
       "<style scoped>\n",
       "    .dataframe tbody tr th:only-of-type {\n",
       "        vertical-align: middle;\n",
       "    }\n",
       "\n",
       "    .dataframe tbody tr th {\n",
       "        vertical-align: top;\n",
       "    }\n",
       "\n",
       "    .dataframe thead th {\n",
       "        text-align: right;\n",
       "    }\n",
       "</style>\n",
       "<table border=\"1\" class=\"dataframe\">\n",
       "  <thead>\n",
       "    <tr style=\"text-align: right;\">\n",
       "      <th></th>\n",
       "      <th>Descrição</th>\n",
       "      <th>Beneficiario</th>\n",
       "      <th>Data</th>\n",
       "      <th>Valor</th>\n",
       "    </tr>\n",
       "  </thead>\n",
       "  <tbody>\n",
       "    <tr>\n",
       "      <th>4475</th>\n",
       "      <td>Pagamento de Boleto</td>\n",
       "      <td>NaN</td>\n",
       "      <td>2022-02-09</td>\n",
       "      <td>15100.28</td>\n",
       "    </tr>\n",
       "    <tr>\n",
       "      <th>3176</th>\n",
       "      <td>Pagamento de Boleto</td>\n",
       "      <td>NaN</td>\n",
       "      <td>2022-01-31</td>\n",
       "      <td>14469.23</td>\n",
       "    </tr>\n",
       "    <tr>\n",
       "      <th>14360</th>\n",
       "      <td>Pagamento conta luz</td>\n",
       "      <td>COORSEL</td>\n",
       "      <td>2022-05-18</td>\n",
       "      <td>13529.77</td>\n",
       "    </tr>\n",
       "  </tbody>\n",
       "</table>\n",
       "</div>"
      ],
      "text/plain": [
       "                 Descrição Beneficiario       Data     Valor\n",
       "4475   Pagamento de Boleto          NaN 2022-02-09  15100.28\n",
       "3176   Pagamento de Boleto          NaN 2022-01-31  14469.23\n",
       "14360  Pagamento conta luz      COORSEL 2022-05-18  13529.77"
      ]
     },
     "execution_count": 15,
     "metadata": {},
     "output_type": "execute_result"
    }
   ],
   "source": [
    "# Maiores resultados\n",
    "df.nlargest(3,\"Valor\")"
   ]
  },
  {
   "cell_type": "code",
   "execution_count": 17,
   "id": "e7bb96c1",
   "metadata": {
    "scrolled": true
   },
   "outputs": [
    {
     "data": {
      "text/html": [
       "<div>\n",
       "<style scoped>\n",
       "    .dataframe tbody tr th:only-of-type {\n",
       "        vertical-align: middle;\n",
       "    }\n",
       "\n",
       "    .dataframe tbody tr th {\n",
       "        vertical-align: top;\n",
       "    }\n",
       "\n",
       "    .dataframe thead th {\n",
       "        text-align: right;\n",
       "    }\n",
       "</style>\n",
       "<table border=\"1\" class=\"dataframe\">\n",
       "  <thead>\n",
       "    <tr style=\"text-align: right;\">\n",
       "      <th></th>\n",
       "      <th>Descrição</th>\n",
       "      <th>Beneficiario</th>\n",
       "      <th>Data</th>\n",
       "      <th>Valor</th>\n",
       "    </tr>\n",
       "  </thead>\n",
       "  <tbody>\n",
       "    <tr>\n",
       "      <th>11476</th>\n",
       "      <td>Pagamento de Boleto</td>\n",
       "      <td>SANTUARIO NAC N S C APARECIDA</td>\n",
       "      <td>2022-04-18</td>\n",
       "      <td>0.01</td>\n",
       "    </tr>\n",
       "    <tr>\n",
       "      <th>18824</th>\n",
       "      <td>Pgto conta água</td>\n",
       "      <td>SERVICO AUTONOMO MUNICIPA</td>\n",
       "      <td>2022-07-08</td>\n",
       "      <td>0.15</td>\n",
       "    </tr>\n",
       "    <tr>\n",
       "      <th>24783</th>\n",
       "      <td>Pagto conta telefone</td>\n",
       "      <td>VIVO PR E SC</td>\n",
       "      <td>2022-09-09</td>\n",
       "      <td>0.91</td>\n",
       "    </tr>\n",
       "    <tr>\n",
       "      <th>3177</th>\n",
       "      <td>Cobrança de I.O.F.</td>\n",
       "      <td>NaN</td>\n",
       "      <td>2022-02-01</td>\n",
       "      <td>0.99</td>\n",
       "    </tr>\n",
       "    <tr>\n",
       "      <th>9151</th>\n",
       "      <td>Pgto conta água</td>\n",
       "      <td>NaN</td>\n",
       "      <td>2022-03-29</td>\n",
       "      <td>1.31</td>\n",
       "    </tr>\n",
       "  </tbody>\n",
       "</table>\n",
       "</div>"
      ],
      "text/plain": [
       "                  Descrição                   Beneficiario       Data  Valor\n",
       "11476   Pagamento de Boleto  SANTUARIO NAC N S C APARECIDA 2022-04-18   0.01\n",
       "18824       Pgto conta água      SERVICO AUTONOMO MUNICIPA 2022-07-08   0.15\n",
       "24783  Pagto conta telefone                   VIVO PR E SC 2022-09-09   0.91\n",
       "3177     Cobrança de I.O.F.                            NaN 2022-02-01   0.99\n",
       "9151        Pgto conta água                            NaN 2022-03-29   1.31"
      ]
     },
     "execution_count": 17,
     "metadata": {},
     "output_type": "execute_result"
    }
   ],
   "source": [
    "# Menores resultados\n",
    "df.nsmallest(5, \"Valor\")"
   ]
  },
  {
   "cell_type": "code",
   "execution_count": 38,
   "id": "911b5d39",
   "metadata": {},
   "outputs": [
    {
     "data": {
      "text/plain": [
       "Beneficiario\n",
       "247 GUARAPARI COMERCIO DE COMBUSTIVEIS     600.00\n",
       "3D TELECOMUNICACOES LTDA                  5273.15\n",
       "48988393098-Claro PR/SC                     50.00\n",
       "48991141763-Vivo PR e SC                    20.00\n",
       "48991370395-Vivo PR e SC                    65.00\n",
       "                                           ...   \n",
       "ZANOTTO DIESEL CENTER TRUCK LTDA           450.00\n",
       "ZAPELINI  ZAPELINI LTDA                    281.00\n",
       "ZEMA CREDITO FINANCIAMENTO E INVESTIME    1316.68\n",
       "ZOOP TECNOLOGIA I P S A                   2958.20\n",
       "ZOOP TECNOLOGIA M P S A                    888.20\n",
       "Name: Valor, Length: 1106, dtype: float64"
      ]
     },
     "execution_count": 38,
     "metadata": {},
     "output_type": "execute_result"
    }
   ],
   "source": [
    "df.groupby('Beneficiario')['Valor'].sum()"
   ]
  },
  {
   "cell_type": "code",
   "execution_count": 19,
   "id": "243bda01",
   "metadata": {},
   "outputs": [
    {
     "data": {
      "text/html": [
       "<div>\n",
       "<style scoped>\n",
       "    .dataframe tbody tr th:only-of-type {\n",
       "        vertical-align: middle;\n",
       "    }\n",
       "\n",
       "    .dataframe tbody tr th {\n",
       "        vertical-align: top;\n",
       "    }\n",
       "\n",
       "    .dataframe thead th {\n",
       "        text-align: right;\n",
       "    }\n",
       "</style>\n",
       "<table border=\"1\" class=\"dataframe\">\n",
       "  <thead>\n",
       "    <tr style=\"text-align: right;\">\n",
       "      <th></th>\n",
       "      <th>Descrição</th>\n",
       "      <th>Beneficiario</th>\n",
       "      <th>Data</th>\n",
       "      <th>Valor</th>\n",
       "    </tr>\n",
       "  </thead>\n",
       "  <tbody>\n",
       "    <tr>\n",
       "      <th>9655</th>\n",
       "      <td>Pagamento de Boleto</td>\n",
       "      <td>ZOOP TECNOLOGIA M P S A</td>\n",
       "      <td>2022-04-05</td>\n",
       "      <td>49.9</td>\n",
       "    </tr>\n",
       "    <tr>\n",
       "      <th>13606</th>\n",
       "      <td>Pagamento de Boleto</td>\n",
       "      <td>ZOOP TECNOLOGIA M P S A</td>\n",
       "      <td>2022-05-10</td>\n",
       "      <td>59.9</td>\n",
       "    </tr>\n",
       "    <tr>\n",
       "      <th>10342</th>\n",
       "      <td>Pagamento de Boleto</td>\n",
       "      <td>ZOOP TECNOLOGIA M P S A</td>\n",
       "      <td>2022-04-08</td>\n",
       "      <td>59.9</td>\n",
       "    </tr>\n",
       "    <tr>\n",
       "      <th>15902</th>\n",
       "      <td>Pagamento de Boleto</td>\n",
       "      <td>ZOOP TECNOLOGIA M P S A</td>\n",
       "      <td>2022-06-07</td>\n",
       "      <td>49.9</td>\n",
       "    </tr>\n",
       "    <tr>\n",
       "      <th>9346</th>\n",
       "      <td>Pagamento de Boleto</td>\n",
       "      <td>ZOOP TECNOLOGIA M P S A</td>\n",
       "      <td>2022-04-01</td>\n",
       "      <td>29.9</td>\n",
       "    </tr>\n",
       "    <tr>\n",
       "      <th>10882</th>\n",
       "      <td>Pagamento de Boleto</td>\n",
       "      <td>ZOOP TECNOLOGIA M P S A</td>\n",
       "      <td>2022-04-11</td>\n",
       "      <td>69.9</td>\n",
       "    </tr>\n",
       "    <tr>\n",
       "      <th>10881</th>\n",
       "      <td>Pagamento de Boleto</td>\n",
       "      <td>ZOOP TECNOLOGIA M P S A</td>\n",
       "      <td>2022-04-11</td>\n",
       "      <td>39.9</td>\n",
       "    </tr>\n",
       "    <tr>\n",
       "      <th>18259</th>\n",
       "      <td>Pagamento de Boleto</td>\n",
       "      <td>ZOOP TECNOLOGIA M P S A</td>\n",
       "      <td>2022-07-05</td>\n",
       "      <td>49.9</td>\n",
       "    </tr>\n",
       "    <tr>\n",
       "      <th>17135</th>\n",
       "      <td>Pagamento de Boleto</td>\n",
       "      <td>ZOOP TECNOLOGIA M P S A</td>\n",
       "      <td>2022-06-15</td>\n",
       "      <td>39.9</td>\n",
       "    </tr>\n",
       "    <tr>\n",
       "      <th>13219</th>\n",
       "      <td>Pagamento de Boleto</td>\n",
       "      <td>ZOOP TECNOLOGIA M P S A</td>\n",
       "      <td>2022-05-09</td>\n",
       "      <td>49.9</td>\n",
       "    </tr>\n",
       "  </tbody>\n",
       "</table>\n",
       "</div>"
      ],
      "text/plain": [
       "                 Descrição             Beneficiario       Data  Valor\n",
       "9655   Pagamento de Boleto  ZOOP TECNOLOGIA M P S A 2022-04-05   49.9\n",
       "13606  Pagamento de Boleto  ZOOP TECNOLOGIA M P S A 2022-05-10   59.9\n",
       "10342  Pagamento de Boleto  ZOOP TECNOLOGIA M P S A 2022-04-08   59.9\n",
       "15902  Pagamento de Boleto  ZOOP TECNOLOGIA M P S A 2022-06-07   49.9\n",
       "9346   Pagamento de Boleto  ZOOP TECNOLOGIA M P S A 2022-04-01   29.9\n",
       "10882  Pagamento de Boleto  ZOOP TECNOLOGIA M P S A 2022-04-11   69.9\n",
       "10881  Pagamento de Boleto  ZOOP TECNOLOGIA M P S A 2022-04-11   39.9\n",
       "18259  Pagamento de Boleto  ZOOP TECNOLOGIA M P S A 2022-07-05   49.9\n",
       "17135  Pagamento de Boleto  ZOOP TECNOLOGIA M P S A 2022-06-15   39.9\n",
       "13219  Pagamento de Boleto  ZOOP TECNOLOGIA M P S A 2022-05-09   49.9"
      ]
     },
     "execution_count": 19,
     "metadata": {},
     "output_type": "execute_result"
    }
   ],
   "source": [
    "# Metodo de ordenação\n",
    "df.sort_values('Beneficiario', ascending=False).head(10)"
   ]
  },
  {
   "cell_type": "markdown",
   "id": "d0eb7d27",
   "metadata": {},
   "source": [
    "### Trabalhando com Datas"
   ]
  },
  {
   "cell_type": "code",
   "execution_count": 20,
   "id": "ea782cf6",
   "metadata": {},
   "outputs": [
    {
     "data": {
      "text/plain": [
       "Data\n",
       "1    925508.24\n",
       "2    880038.74\n",
       "3    979896.90\n",
       "4    877513.92\n",
       "5    894040.53\n",
       "6    857228.12\n",
       "7    807684.76\n",
       "8    890794.65\n",
       "9    919077.09\n",
       "Name: Valor, dtype: float64"
      ]
     },
     "execution_count": 20,
     "metadata": {},
     "output_type": "execute_result"
    }
   ],
   "source": [
    "# Agrupando por Mes\n",
    "df.groupby(df['Data'].dt.month)['Valor'].sum()"
   ]
  },
  {
   "cell_type": "code",
   "execution_count": 21,
   "id": "38fb19ce",
   "metadata": {},
   "outputs": [],
   "source": [
    "# Criando uma nova coluna com o ano\n",
    "df[\"Ano\"] = df[\"Data\"].dt.year"
   ]
  },
  {
   "cell_type": "code",
   "execution_count": 22,
   "id": "c8a47d83",
   "metadata": {},
   "outputs": [
    {
     "data": {
      "text/html": [
       "<div>\n",
       "<style scoped>\n",
       "    .dataframe tbody tr th:only-of-type {\n",
       "        vertical-align: middle;\n",
       "    }\n",
       "\n",
       "    .dataframe tbody tr th {\n",
       "        vertical-align: top;\n",
       "    }\n",
       "\n",
       "    .dataframe thead th {\n",
       "        text-align: right;\n",
       "    }\n",
       "</style>\n",
       "<table border=\"1\" class=\"dataframe\">\n",
       "  <thead>\n",
       "    <tr style=\"text-align: right;\">\n",
       "      <th></th>\n",
       "      <th>Descrição</th>\n",
       "      <th>Beneficiario</th>\n",
       "      <th>Data</th>\n",
       "      <th>Valor</th>\n",
       "      <th>Ano</th>\n",
       "    </tr>\n",
       "  </thead>\n",
       "  <tbody>\n",
       "    <tr>\n",
       "      <th>7266</th>\n",
       "      <td>Pagamento conta luz</td>\n",
       "      <td>NaN</td>\n",
       "      <td>2022-03-09</td>\n",
       "      <td>118.13</td>\n",
       "      <td>2022</td>\n",
       "    </tr>\n",
       "    <tr>\n",
       "      <th>2223</th>\n",
       "      <td>Pagamento de Boleto</td>\n",
       "      <td>NaN</td>\n",
       "      <td>2022-01-17</td>\n",
       "      <td>279.16</td>\n",
       "      <td>2022</td>\n",
       "    </tr>\n",
       "    <tr>\n",
       "      <th>23247</th>\n",
       "      <td>Pagamento de Boleto</td>\n",
       "      <td>EBANX LTDA</td>\n",
       "      <td>2022-08-23</td>\n",
       "      <td>52.19</td>\n",
       "      <td>2022</td>\n",
       "    </tr>\n",
       "    <tr>\n",
       "      <th>12531</th>\n",
       "      <td>Pagamento de Boleto</td>\n",
       "      <td>BANCO SICOOB S.A.</td>\n",
       "      <td>2022-05-05</td>\n",
       "      <td>255.00</td>\n",
       "      <td>2022</td>\n",
       "    </tr>\n",
       "    <tr>\n",
       "      <th>25957</th>\n",
       "      <td>Pgto conta água</td>\n",
       "      <td>SERVICO AUTONOMO MUNICIPA</td>\n",
       "      <td>2022-09-19</td>\n",
       "      <td>219.41</td>\n",
       "      <td>2022</td>\n",
       "    </tr>\n",
       "  </tbody>\n",
       "</table>\n",
       "</div>"
      ],
      "text/plain": [
       "                 Descrição               Beneficiario       Data   Valor   Ano\n",
       "7266   Pagamento conta luz                        NaN 2022-03-09  118.13  2022\n",
       "2223   Pagamento de Boleto                        NaN 2022-01-17  279.16  2022\n",
       "23247  Pagamento de Boleto                 EBANX LTDA 2022-08-23   52.19  2022\n",
       "12531  Pagamento de Boleto          BANCO SICOOB S.A. 2022-05-05  255.00  2022\n",
       "25957      Pgto conta água  SERVICO AUTONOMO MUNICIPA 2022-09-19  219.41  2022"
      ]
     },
     "execution_count": 22,
     "metadata": {},
     "output_type": "execute_result"
    }
   ],
   "source": [
    "df.sample(5)"
   ]
  },
  {
   "cell_type": "code",
   "execution_count": 23,
   "id": "611f6199",
   "metadata": {},
   "outputs": [],
   "source": [
    "# Extraindo o mes e o dia \n",
    "df['Mes'], df['Dia'] = (df['Data'].dt.month, df['Data'].dt.day)"
   ]
  },
  {
   "cell_type": "code",
   "execution_count": 25,
   "id": "0fe7a68f",
   "metadata": {},
   "outputs": [
    {
     "data": {
      "text/html": [
       "<div>\n",
       "<style scoped>\n",
       "    .dataframe tbody tr th:only-of-type {\n",
       "        vertical-align: middle;\n",
       "    }\n",
       "\n",
       "    .dataframe tbody tr th {\n",
       "        vertical-align: top;\n",
       "    }\n",
       "\n",
       "    .dataframe thead th {\n",
       "        text-align: right;\n",
       "    }\n",
       "</style>\n",
       "<table border=\"1\" class=\"dataframe\">\n",
       "  <thead>\n",
       "    <tr style=\"text-align: right;\">\n",
       "      <th></th>\n",
       "      <th>Descrição</th>\n",
       "      <th>Beneficiario</th>\n",
       "      <th>Data</th>\n",
       "      <th>Valor</th>\n",
       "      <th>Ano</th>\n",
       "      <th>Mes</th>\n",
       "      <th>Dia</th>\n",
       "    </tr>\n",
       "  </thead>\n",
       "  <tbody>\n",
       "    <tr>\n",
       "      <th>25037</th>\n",
       "      <td>Pagamento conta luz</td>\n",
       "      <td>COORSEL</td>\n",
       "      <td>2022-09-12</td>\n",
       "      <td>236.99</td>\n",
       "      <td>2022</td>\n",
       "      <td>9</td>\n",
       "      <td>12</td>\n",
       "    </tr>\n",
       "    <tr>\n",
       "      <th>11315</th>\n",
       "      <td>Pagamento de Boleto</td>\n",
       "      <td>BANCO DO BRASIL</td>\n",
       "      <td>2022-04-18</td>\n",
       "      <td>748.57</td>\n",
       "      <td>2022</td>\n",
       "      <td>4</td>\n",
       "      <td>18</td>\n",
       "    </tr>\n",
       "    <tr>\n",
       "      <th>13068</th>\n",
       "      <td>Pagamento de Boleto</td>\n",
       "      <td>FIDC DMCARD CARTOES DE CREDITO</td>\n",
       "      <td>2022-05-09</td>\n",
       "      <td>126.56</td>\n",
       "      <td>2022</td>\n",
       "      <td>5</td>\n",
       "      <td>9</td>\n",
       "    </tr>\n",
       "    <tr>\n",
       "      <th>19061</th>\n",
       "      <td>Pagamento conta luz</td>\n",
       "      <td>CELESC DISTRIBUICAO S.A.</td>\n",
       "      <td>2022-07-11</td>\n",
       "      <td>39.97</td>\n",
       "      <td>2022</td>\n",
       "      <td>7</td>\n",
       "      <td>11</td>\n",
       "    </tr>\n",
       "    <tr>\n",
       "      <th>152</th>\n",
       "      <td>Pagamento de Boleto</td>\n",
       "      <td>NaN</td>\n",
       "      <td>2022-01-04</td>\n",
       "      <td>53.11</td>\n",
       "      <td>2022</td>\n",
       "      <td>1</td>\n",
       "      <td>4</td>\n",
       "    </tr>\n",
       "  </tbody>\n",
       "</table>\n",
       "</div>"
      ],
      "text/plain": [
       "                 Descrição                    Beneficiario       Data   Valor  \\\n",
       "25037  Pagamento conta luz                         COORSEL 2022-09-12  236.99   \n",
       "11315  Pagamento de Boleto                 BANCO DO BRASIL 2022-04-18  748.57   \n",
       "13068  Pagamento de Boleto  FIDC DMCARD CARTOES DE CREDITO 2022-05-09  126.56   \n",
       "19061  Pagamento conta luz        CELESC DISTRIBUICAO S.A. 2022-07-11   39.97   \n",
       "152    Pagamento de Boleto                             NaN 2022-01-04   53.11   \n",
       "\n",
       "        Ano  Mes  Dia  \n",
       "25037  2022    9   12  \n",
       "11315  2022    4   18  \n",
       "13068  2022    5    9  \n",
       "19061  2022    7   11  \n",
       "152    2022    1    4  "
      ]
     },
     "execution_count": 25,
     "metadata": {},
     "output_type": "execute_result"
    }
   ],
   "source": [
    "df.sample(5)"
   ]
  },
  {
   "cell_type": "code",
   "execution_count": 26,
   "id": "1785bf74",
   "metadata": {},
   "outputs": [
    {
     "data": {
      "text/plain": [
       "Timestamp('2022-01-03 00:00:00')"
      ]
     },
     "execution_count": 26,
     "metadata": {},
     "output_type": "execute_result"
    }
   ],
   "source": [
    "#retornando a data mais antiga\n",
    "df['Data'].min()"
   ]
  },
  {
   "cell_type": "code",
   "execution_count": 27,
   "id": "a39fd465",
   "metadata": {},
   "outputs": [],
   "source": [
    "# Criando a coluna de trimestre\n",
    "df['Trimestre'] = df['Data'].dt.quarter"
   ]
  },
  {
   "cell_type": "code",
   "execution_count": 28,
   "id": "ee4f7699",
   "metadata": {},
   "outputs": [
    {
     "data": {
      "text/html": [
       "<div>\n",
       "<style scoped>\n",
       "    .dataframe tbody tr th:only-of-type {\n",
       "        vertical-align: middle;\n",
       "    }\n",
       "\n",
       "    .dataframe tbody tr th {\n",
       "        vertical-align: top;\n",
       "    }\n",
       "\n",
       "    .dataframe thead th {\n",
       "        text-align: right;\n",
       "    }\n",
       "</style>\n",
       "<table border=\"1\" class=\"dataframe\">\n",
       "  <thead>\n",
       "    <tr style=\"text-align: right;\">\n",
       "      <th></th>\n",
       "      <th>Descrição</th>\n",
       "      <th>Beneficiario</th>\n",
       "      <th>Data</th>\n",
       "      <th>Valor</th>\n",
       "      <th>Ano</th>\n",
       "      <th>Mes</th>\n",
       "      <th>Dia</th>\n",
       "      <th>Trimestre</th>\n",
       "    </tr>\n",
       "  </thead>\n",
       "  <tbody>\n",
       "    <tr>\n",
       "      <th>10793</th>\n",
       "      <td>Pgto conta água</td>\n",
       "      <td>SERVICO AUTONOMO MUNICIPA</td>\n",
       "      <td>2022-04-11</td>\n",
       "      <td>55.45</td>\n",
       "      <td>2022</td>\n",
       "      <td>4</td>\n",
       "      <td>11</td>\n",
       "      <td>2</td>\n",
       "    </tr>\n",
       "    <tr>\n",
       "      <th>7644</th>\n",
       "      <td>Pagamento conta luz</td>\n",
       "      <td>NaN</td>\n",
       "      <td>2022-03-10</td>\n",
       "      <td>233.84</td>\n",
       "      <td>2022</td>\n",
       "      <td>3</td>\n",
       "      <td>10</td>\n",
       "      <td>1</td>\n",
       "    </tr>\n",
       "    <tr>\n",
       "      <th>12431</th>\n",
       "      <td>Pagamento de Boleto</td>\n",
       "      <td>SPAL INDUSTRIA BRASILEIRA BEBIDAS SA</td>\n",
       "      <td>2022-05-03</td>\n",
       "      <td>219.91</td>\n",
       "      <td>2022</td>\n",
       "      <td>5</td>\n",
       "      <td>3</td>\n",
       "      <td>2</td>\n",
       "    </tr>\n",
       "    <tr>\n",
       "      <th>3109</th>\n",
       "      <td>Pgto conta água</td>\n",
       "      <td>NaN</td>\n",
       "      <td>2022-01-31</td>\n",
       "      <td>154.54</td>\n",
       "      <td>2022</td>\n",
       "      <td>1</td>\n",
       "      <td>31</td>\n",
       "      <td>1</td>\n",
       "    </tr>\n",
       "    <tr>\n",
       "      <th>3401</th>\n",
       "      <td>Pagamento conta luz</td>\n",
       "      <td>NaN</td>\n",
       "      <td>2022-02-03</td>\n",
       "      <td>404.72</td>\n",
       "      <td>2022</td>\n",
       "      <td>2</td>\n",
       "      <td>3</td>\n",
       "      <td>1</td>\n",
       "    </tr>\n",
       "  </tbody>\n",
       "</table>\n",
       "</div>"
      ],
      "text/plain": [
       "                 Descrição                          Beneficiario       Data  \\\n",
       "10793      Pgto conta água             SERVICO AUTONOMO MUNICIPA 2022-04-11   \n",
       "7644   Pagamento conta luz                                   NaN 2022-03-10   \n",
       "12431  Pagamento de Boleto  SPAL INDUSTRIA BRASILEIRA BEBIDAS SA 2022-05-03   \n",
       "3109       Pgto conta água                                   NaN 2022-01-31   \n",
       "3401   Pagamento conta luz                                   NaN 2022-02-03   \n",
       "\n",
       "        Valor   Ano  Mes  Dia  Trimestre  \n",
       "10793   55.45  2022    4   11          2  \n",
       "7644   233.84  2022    3   10          1  \n",
       "12431  219.91  2022    5    3          2  \n",
       "3109   154.54  2022    1   31          1  \n",
       "3401   404.72  2022    2    3          1  "
      ]
     },
     "execution_count": 28,
     "metadata": {},
     "output_type": "execute_result"
    }
   ],
   "source": [
    "df.sample(5)"
   ]
  },
  {
   "cell_type": "code",
   "execution_count": 30,
   "id": "781da3ed",
   "metadata": {},
   "outputs": [
    {
     "data": {
      "text/plain": [
       "Trimestre\n",
       "1    2785443.88\n",
       "2    2628782.57\n",
       "3    2617556.50\n",
       "Name: Valor, dtype: float64"
      ]
     },
     "execution_count": 30,
     "metadata": {},
     "output_type": "execute_result"
    }
   ],
   "source": [
    "# Soma dos valores pelo trimestre\n",
    "df.groupby(df['Trimestre'])['Valor'].sum()"
   ]
  },
  {
   "cell_type": "code",
   "execution_count": 34,
   "id": "72b552d4",
   "metadata": {},
   "outputs": [],
   "source": [
    "# Filtrando os valores do mes de março\n",
    "valores =df.loc[(df['Data'].dt.year == 2022) & (df['Data'].dt.month == 3)]\n"
   ]
  },
  {
   "cell_type": "code",
   "execution_count": 35,
   "id": "c1ed9085",
   "metadata": {},
   "outputs": [
    {
     "data": {
      "text/html": [
       "<div>\n",
       "<style scoped>\n",
       "    .dataframe tbody tr th:only-of-type {\n",
       "        vertical-align: middle;\n",
       "    }\n",
       "\n",
       "    .dataframe tbody tr th {\n",
       "        vertical-align: top;\n",
       "    }\n",
       "\n",
       "    .dataframe thead th {\n",
       "        text-align: right;\n",
       "    }\n",
       "</style>\n",
       "<table border=\"1\" class=\"dataframe\">\n",
       "  <thead>\n",
       "    <tr style=\"text-align: right;\">\n",
       "      <th></th>\n",
       "      <th>Descrição</th>\n",
       "      <th>Beneficiario</th>\n",
       "      <th>Data</th>\n",
       "      <th>Valor</th>\n",
       "      <th>Ano</th>\n",
       "      <th>Mes</th>\n",
       "      <th>Dia</th>\n",
       "      <th>Trimestre</th>\n",
       "    </tr>\n",
       "  </thead>\n",
       "  <tbody>\n",
       "    <tr>\n",
       "      <th>7768</th>\n",
       "      <td>Pagamento de Boleto</td>\n",
       "      <td>NaN</td>\n",
       "      <td>2022-03-11</td>\n",
       "      <td>99.30</td>\n",
       "      <td>2022</td>\n",
       "      <td>3</td>\n",
       "      <td>11</td>\n",
       "      <td>1</td>\n",
       "    </tr>\n",
       "    <tr>\n",
       "      <th>8171</th>\n",
       "      <td>Pagamento de Boleto</td>\n",
       "      <td>NaN</td>\n",
       "      <td>2022-03-15</td>\n",
       "      <td>150.00</td>\n",
       "      <td>2022</td>\n",
       "      <td>3</td>\n",
       "      <td>15</td>\n",
       "      <td>1</td>\n",
       "    </tr>\n",
       "    <tr>\n",
       "      <th>7258</th>\n",
       "      <td>Pgto conta água</td>\n",
       "      <td>NaN</td>\n",
       "      <td>2022-03-09</td>\n",
       "      <td>106.43</td>\n",
       "      <td>2022</td>\n",
       "      <td>3</td>\n",
       "      <td>9</td>\n",
       "      <td>1</td>\n",
       "    </tr>\n",
       "    <tr>\n",
       "      <th>8346</th>\n",
       "      <td>Pagamento de Boleto</td>\n",
       "      <td>NaN</td>\n",
       "      <td>2022-03-16</td>\n",
       "      <td>285.86</td>\n",
       "      <td>2022</td>\n",
       "      <td>3</td>\n",
       "      <td>16</td>\n",
       "      <td>1</td>\n",
       "    </tr>\n",
       "    <tr>\n",
       "      <th>7444</th>\n",
       "      <td>Pagamento de Boleto</td>\n",
       "      <td>NaN</td>\n",
       "      <td>2022-03-10</td>\n",
       "      <td>33.89</td>\n",
       "      <td>2022</td>\n",
       "      <td>3</td>\n",
       "      <td>10</td>\n",
       "      <td>1</td>\n",
       "    </tr>\n",
       "    <tr>\n",
       "      <th>8428</th>\n",
       "      <td>Pagamento de Boleto</td>\n",
       "      <td>NaN</td>\n",
       "      <td>2022-03-17</td>\n",
       "      <td>142.42</td>\n",
       "      <td>2022</td>\n",
       "      <td>3</td>\n",
       "      <td>17</td>\n",
       "      <td>1</td>\n",
       "    </tr>\n",
       "    <tr>\n",
       "      <th>8498</th>\n",
       "      <td>INSS Arrecadação</td>\n",
       "      <td>NaN</td>\n",
       "      <td>2022-03-18</td>\n",
       "      <td>60.60</td>\n",
       "      <td>2022</td>\n",
       "      <td>3</td>\n",
       "      <td>18</td>\n",
       "      <td>1</td>\n",
       "    </tr>\n",
       "    <tr>\n",
       "      <th>8942</th>\n",
       "      <td>Pagamento conta luz</td>\n",
       "      <td>NaN</td>\n",
       "      <td>2022-03-24</td>\n",
       "      <td>312.54</td>\n",
       "      <td>2022</td>\n",
       "      <td>3</td>\n",
       "      <td>24</td>\n",
       "      <td>1</td>\n",
       "    </tr>\n",
       "    <tr>\n",
       "      <th>6765</th>\n",
       "      <td>Pgto conta água</td>\n",
       "      <td>NaN</td>\n",
       "      <td>2022-03-07</td>\n",
       "      <td>266.66</td>\n",
       "      <td>2022</td>\n",
       "      <td>3</td>\n",
       "      <td>7</td>\n",
       "      <td>1</td>\n",
       "    </tr>\n",
       "    <tr>\n",
       "      <th>7836</th>\n",
       "      <td>Pagamento conta luz</td>\n",
       "      <td>NaN</td>\n",
       "      <td>2022-03-11</td>\n",
       "      <td>439.17</td>\n",
       "      <td>2022</td>\n",
       "      <td>3</td>\n",
       "      <td>11</td>\n",
       "      <td>1</td>\n",
       "    </tr>\n",
       "    <tr>\n",
       "      <th>8647</th>\n",
       "      <td>Pagamento de Boleto</td>\n",
       "      <td>NaN</td>\n",
       "      <td>2022-03-21</td>\n",
       "      <td>142.97</td>\n",
       "      <td>2022</td>\n",
       "      <td>3</td>\n",
       "      <td>21</td>\n",
       "      <td>1</td>\n",
       "    </tr>\n",
       "    <tr>\n",
       "      <th>8058</th>\n",
       "      <td>Pagamento de Boleto</td>\n",
       "      <td>NaN</td>\n",
       "      <td>2022-03-14</td>\n",
       "      <td>540.85</td>\n",
       "      <td>2022</td>\n",
       "      <td>3</td>\n",
       "      <td>14</td>\n",
       "      <td>1</td>\n",
       "    </tr>\n",
       "    <tr>\n",
       "      <th>7279</th>\n",
       "      <td>Pagamento de Boleto</td>\n",
       "      <td>NaN</td>\n",
       "      <td>2022-03-09</td>\n",
       "      <td>129.90</td>\n",
       "      <td>2022</td>\n",
       "      <td>3</td>\n",
       "      <td>9</td>\n",
       "      <td>1</td>\n",
       "    </tr>\n",
       "    <tr>\n",
       "      <th>6555</th>\n",
       "      <td>Pagamento conta luz</td>\n",
       "      <td>NaN</td>\n",
       "      <td>2022-03-07</td>\n",
       "      <td>68.62</td>\n",
       "      <td>2022</td>\n",
       "      <td>3</td>\n",
       "      <td>7</td>\n",
       "      <td>1</td>\n",
       "    </tr>\n",
       "    <tr>\n",
       "      <th>7319</th>\n",
       "      <td>Pagto conta telefone</td>\n",
       "      <td>NaN</td>\n",
       "      <td>2022-03-09</td>\n",
       "      <td>169.46</td>\n",
       "      <td>2022</td>\n",
       "      <td>3</td>\n",
       "      <td>9</td>\n",
       "      <td>1</td>\n",
       "    </tr>\n",
       "  </tbody>\n",
       "</table>\n",
       "</div>"
      ],
      "text/plain": [
       "                 Descrição Beneficiario       Data   Valor   Ano  Mes  Dia  \\\n",
       "7768   Pagamento de Boleto          NaN 2022-03-11   99.30  2022    3   11   \n",
       "8171   Pagamento de Boleto          NaN 2022-03-15  150.00  2022    3   15   \n",
       "7258       Pgto conta água          NaN 2022-03-09  106.43  2022    3    9   \n",
       "8346   Pagamento de Boleto          NaN 2022-03-16  285.86  2022    3   16   \n",
       "7444   Pagamento de Boleto          NaN 2022-03-10   33.89  2022    3   10   \n",
       "8428   Pagamento de Boleto          NaN 2022-03-17  142.42  2022    3   17   \n",
       "8498      INSS Arrecadação          NaN 2022-03-18   60.60  2022    3   18   \n",
       "8942   Pagamento conta luz          NaN 2022-03-24  312.54  2022    3   24   \n",
       "6765       Pgto conta água          NaN 2022-03-07  266.66  2022    3    7   \n",
       "7836   Pagamento conta luz          NaN 2022-03-11  439.17  2022    3   11   \n",
       "8647   Pagamento de Boleto          NaN 2022-03-21  142.97  2022    3   21   \n",
       "8058   Pagamento de Boleto          NaN 2022-03-14  540.85  2022    3   14   \n",
       "7279   Pagamento de Boleto          NaN 2022-03-09  129.90  2022    3    9   \n",
       "6555   Pagamento conta luz          NaN 2022-03-07   68.62  2022    3    7   \n",
       "7319  Pagto conta telefone          NaN 2022-03-09  169.46  2022    3    9   \n",
       "\n",
       "      Trimestre  \n",
       "7768          1  \n",
       "8171          1  \n",
       "7258          1  \n",
       "8346          1  \n",
       "7444          1  \n",
       "8428          1  \n",
       "8498          1  \n",
       "8942          1  \n",
       "6765          1  \n",
       "7836          1  \n",
       "8647          1  \n",
       "8058          1  \n",
       "7279          1  \n",
       "6555          1  \n",
       "7319          1  "
      ]
     },
     "execution_count": 35,
     "metadata": {},
     "output_type": "execute_result"
    }
   ],
   "source": [
    "valores.sample(15)"
   ]
  },
  {
   "cell_type": "markdown",
   "id": "bb0874e0",
   "metadata": {},
   "source": [
    "### Visualização de Dados"
   ]
  },
  {
   "cell_type": "code",
   "execution_count": 37,
   "id": "eaf96380",
   "metadata": {},
   "outputs": [
    {
     "data": {
      "text/plain": [
       "Pagamento de Boleto         14050\n",
       "Pagamento conta luz          5374\n",
       "Pgto conta água              3464\n",
       "Pagto conta telefone         2032\n",
       "Impostos                     1383\n",
       "INSS Arrecadação              303\n",
       "Telefone Pre-Pago              59\n",
       "Pagto Energia Elétrica         36\n",
       "Pagto via Auto-Atend.BB        23\n",
       "Pagto cartão crédito           18\n",
       "Pagamento Fatura de Água       18\n",
       "Compra com Cartão              11\n",
       "Cobrança de I.O.F.              3\n",
       "Pagamentos Diversos             1\n",
       "Name: Descrição, dtype: int64"
      ]
     },
     "execution_count": 37,
     "metadata": {},
     "output_type": "execute_result"
    }
   ],
   "source": [
    "# Mostra quantas vezes se repete dentro da tabela\n",
    "df['Descrição'].value_counts(ascending=False)"
   ]
  },
  {
   "cell_type": "code",
   "execution_count": 39,
   "id": "42e38257",
   "metadata": {},
   "outputs": [
    {
     "data": {
      "text/plain": [
       "<AxesSubplot:>"
      ]
     },
     "execution_count": 39,
     "metadata": {},
     "output_type": "execute_result"
    },
    {
     "data": {
      "image/png": "[encoded data removed]",
      "text/plain": [
       "<Figure size 432x288 with 1 Axes>"
      ]
     },
     "metadata": {
      "needs_background": "light"
     },
     "output_type": "display_data"
    }
   ],
   "source": [
    "df['Descrição'].value_counts(ascending=False).plot.bar()"
   ]
  },
  {
   "cell_type": "code",
   "execution_count": 42,
   "id": "a0bedf70",
   "metadata": {},
   "outputs": [
    {
     "data": {
      "image/png": "[encoded data removed]",
      "text/plain": [
       "<Figure size 432x288 with 1 Axes>"
      ]
     },
     "metadata": {
      "needs_background": "light"
     },
     "output_type": "display_data"
    }
   ],
   "source": [
    "df['Descrição'].value_counts(ascending=True).plot.barh();"
   ]
  },
  {
   "cell_type": "code",
   "execution_count": 44,
   "id": "9fc9486d",
   "metadata": {},
   "outputs": [
    {
     "data": {
      "image/png": "[encoded data removed]",
      "text/plain": [
       "<Figure size 432x288 with 1 Axes>"
      ]
     },
     "metadata": {},
     "output_type": "display_data"
    }
   ],
   "source": [
    "df.groupby(df['Trimestre'])['Valor'].sum().plot.pie();"
   ]
  },
  {
   "cell_type": "code",
   "execution_count": 45,
   "id": "d822997e",
   "metadata": {},
   "outputs": [],
   "source": [
    "import matplotlib.pyplot as plt"
   ]
  },
  {
   "cell_type": "code",
   "execution_count": 60,
   "id": "6b9d6d68",
   "metadata": {},
   "outputs": [
    {
     "data": {
      "image/png": "[encoded data removed]",
      "text/plain": [
       "<Figure size 432x288 with 1 Axes>"
      ]
     },
     "metadata": {},
     "output_type": "display_data"
    }
   ],
   "source": [
    "df.groupby(df['Mes'])['Valor'].sum().plot.bar(title='Valor Total por Mês', color='red')\n",
    "plt.xlabel('Meses')\n",
    "plt.ylabel('Valor');\n"
   ]
  },
  {
   "cell_type": "code",
   "execution_count": 61,
   "id": "68366df5",
   "metadata": {},
   "outputs": [],
   "source": [
    "# Alterando o estilo\n",
    "plt.style.use('ggplot')"
   ]
  },
  {
   "cell_type": "code",
   "execution_count": 63,
   "id": "07ba798e",
   "metadata": {},
   "outputs": [
    {
     "data": {
      "image/png": "[encoded data removed]",
      "text/plain": [
       "<Figure size 432x288 with 1 Axes>"
      ]
     },
     "metadata": {},
     "output_type": "display_data"
    }
   ],
   "source": [
    "df.groupby(df['Mes'])['Valor'].sum().plot(title='Valor Total por Mês', color='red')\n",
    "plt.xlabel('Meses')\n",
    "plt.ylabel('Valor');\n",
    "plt.legend();\n"
   ]
  },
  {
   "cell_type": "code",
   "execution_count": null,
   "id": "1b64afc3",
   "metadata": {},
   "outputs": [],
   "source": []
  }
 ],
 "metadata": {
  "kernelspec": {
   "display_name": "Python 3 (ipykernel)",
   "language": "python",
   "name": "python3"
  },
  "language_info": {
   "codemirror_mode": {
    "name": "ipython",
    "version": 3
   },
   "file_extension": ".py",
   "mimetype": "text/x-python",
   "name": "python",
   "nbconvert_exporter": "python",
   "pygments_lexer": "ipython3",
   "version": "3.9.12"
  }
 },
 "nbformat": 4,
 "nbformat_minor": 5
}
